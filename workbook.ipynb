{
 "cells": [
  {
   "cell_type": "code",
   "execution_count": 1,
   "id": "a684910a-401a-4c62-b5bf-eec27b28ca6b",
   "metadata": {},
   "outputs": [],
   "source": [
    "import pandas as pd\n",
    "\n",
    "df = pd.DataFrame()\n",
    "\n",
    "df.assign(name=\"\",\n",
    "          sample_type=\"\",\n",
    "          kit=\"\",\n",
    "          barcodes=\"\",\n",
    "          adaptive_sampling=\"\",\n",
    "          reference_genome=\"\",\n",
    "          comment=\"\",\n",
    "          date=\"\",\n",
    "          url=\"\",\n",
    "          sample_concentration=\"\",\n",
    "          volume=\"\"\n",
    "         ).to_csv(\"nanopore_experiments.csv\", index=False)"
   ]
  },
  {
   "cell_type": "code",
   "execution_count": 11,
   "id": "e4d8f8e2-8905-416c-b895-3d539e77021b",
   "metadata": {},
   "outputs": [],
   "source": [
    "import yaml\n",
    "\n",
    "with open(\"config.yaml\", \"r\") as f:\n",
    "    config = yaml.full_load(f)"
   ]
  },
  {
   "cell_type": "code",
   "execution_count": 12,
   "id": "7413857b-6b48-47c8-80d3-d9cd82195646",
   "metadata": {},
   "outputs": [
    {
     "data": {
      "text/plain": [
       "'pages'"
      ]
     },
     "execution_count": 12,
     "metadata": {},
     "output_type": "execute_result"
    }
   ],
   "source": [
    "config[\"SEQUENCING_FOLDER\"]"
   ]
  }
 ],
 "metadata": {
  "kernelspec": {
   "display_name": "Python 3 (ipykernel)",
   "language": "python",
   "name": "python3"
  },
  "language_info": {
   "codemirror_mode": {
    "name": "ipython",
    "version": 3
   },
   "file_extension": ".py",
   "mimetype": "text/x-python",
   "name": "python",
   "nbconvert_exporter": "python",
   "pygments_lexer": "ipython3",
   "version": "3.10.8"
  }
 },
 "nbformat": 4,
 "nbformat_minor": 5
}
