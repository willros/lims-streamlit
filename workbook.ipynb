{
 "cells": [
  {
   "cell_type": "code",
   "execution_count": 35,
   "id": "a684910a-401a-4c62-b5bf-eec27b28ca6b",
   "metadata": {},
   "outputs": [],
   "source": [
    "import pandas as pd\n",
    "\n",
    "df = pd.DataFrame()\n",
    "\n",
    "df.assign(name=\"\",\n",
    "          sample_type=\"\",\n",
    "          kit=\"\",\n",
    "          barcodes=\"\",\n",
    "          adaptive_sampling=\"\",\n",
    "          reference_genome=\"\",\n",
    "          comment=\"\",\n",
    "          date=\"\",\n",
    "          sample_concentration=\"\",\n",
    "          volume=\"\"\n",
    "         ).to_csv(\"nanopore_experiments.csv\", index=False)"
   ]
  },
  {
   "cell_type": "code",
   "execution_count": 2,
   "id": "d847e03c-d14c-48de-b08b-963641bdc762",
   "metadata": {},
   "outputs": [],
   "source": [
    "from pathlib import Path\n",
    "seq_folder = [x for x in Path(\"TEST-DATA\").iterdir() if x.is_dir and not x.stem.startswith(\".\")]"
   ]
  },
  {
   "cell_type": "code",
   "execution_count": 33,
   "id": "ad8cd4b9-0bca-4351-9135-fa6e6f742a62",
   "metadata": {},
   "outputs": [],
   "source": [
    "nanoplot = [y[0] if (y := list(x.rglob(\"*asdad*\"))) else \"Not generated\" for x in seq_folder]"
   ]
  },
  {
   "cell_type": "code",
   "execution_count": 34,
   "id": "d1015e0d-7150-46c1-8141-6081f9db0b31",
   "metadata": {},
   "outputs": [
    {
     "data": {
      "text/plain": [
       "['Not generated']"
      ]
     },
     "execution_count": 34,
     "metadata": {},
     "output_type": "execute_result"
    }
   ],
   "source": [
    "nanoplot"
   ]
  },
  {
   "cell_type": "code",
   "execution_count": null,
   "id": "c1a5472c-d7b2-4284-a34d-217f165f78bf",
   "metadata": {},
   "outputs": [],
   "source": []
  },
  {
   "cell_type": "code",
   "execution_count": 20,
   "id": "cd5ba3cd-8df0-4328-8dbc-dd88e22d1e45",
   "metadata": {},
   "outputs": [],
   "source": [
    "test = [1,2,3]\n",
    "\n",
    "hej = [x if (y := x > 2) else \"nej\" for x in test]"
   ]
  },
  {
   "cell_type": "code",
   "execution_count": 21,
   "id": "4a6a8cfd-e361-4dfa-a01d-c2811cc46b3b",
   "metadata": {},
   "outputs": [
    {
     "data": {
      "text/plain": [
       "['nej', 'nej', 3]"
      ]
     },
     "execution_count": 21,
     "metadata": {},
     "output_type": "execute_result"
    }
   ],
   "source": [
    "hej"
   ]
  }
 ],
 "metadata": {
  "kernelspec": {
   "display_name": "Python 3 (ipykernel)",
   "language": "python",
   "name": "python3"
  },
  "language_info": {
   "codemirror_mode": {
    "name": "ipython",
    "version": 3
   },
   "file_extension": ".py",
   "mimetype": "text/x-python",
   "name": "python",
   "nbconvert_exporter": "python",
   "pygments_lexer": "ipython3",
   "version": "3.10.8"
  }
 },
 "nbformat": 4,
 "nbformat_minor": 5
}
