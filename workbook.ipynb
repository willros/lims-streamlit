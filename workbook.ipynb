{
 "cells": [
  {
   "cell_type": "code",
   "execution_count": 42,
   "id": "a684910a-401a-4c62-b5bf-eec27b28ca6b",
   "metadata": {},
   "outputs": [],
   "source": [
    "import pandas as pd\n",
    "\n",
    "df = pd.DataFrame()\n",
    "\n",
    "df.assign(name=\"\",\n",
    "          sample_type=\"\",\n",
    "          kit=\"\",\n",
    "          barcodes=\"\",\n",
    "          adaptive_sampling=\"\",\n",
    "          reference_genome=\"\",\n",
    "          comment=\"\",\n",
    "          date=\"\",\n",
    "          sample_concentration=\"\",\n",
    "          volume=\"\",\n",
    "          oligos_and_adapters=\"\",\n",
    "         ).to_csv(\"nanopore_experiments.csv\", index=False)"
   ]
  },
  {
   "cell_type": "code",
   "execution_count": 120,
   "id": "5df7c3a9-0b4a-45aa-ad93-b43cb76e3781",
   "metadata": {},
   "outputs": [
    {
     "data": {
      "text/plain": [
       "'2022-11-17'"
      ]
     },
     "execution_count": 120,
     "metadata": {},
     "output_type": "execute_result"
    }
   ],
   "source": [
    "import re \n",
    "from datetime import datetime\n",
    "import pandas as pd\n",
    "from pathlib import Path\n",
    "\n",
    "file = Path(\"TEST-DATA/SAMPLE1/report_FAV26690_20221117_1534_5acb3ea0.html\").read_text()\n",
    "\n",
    "def return_date(text: str):\n",
    "    try:\n",
    "        return str(datetime.strptime(re.findall(r'<div class=\"run-details\">\\n\\s*(\\d* \\w* \\d*)', text)[0], '%d %b %y').date())\n",
    "    except:\n",
    "        return pd.NA\n",
    "\n",
    "return_date(file)\n"
   ]
  },
  {
   "cell_type": "code",
   "execution_count": 127,
   "id": "5080a1a3-a2f5-4a29-8e70-84d62a0a1991",
   "metadata": {},
   "outputs": [],
   "source": [
    "from pandas._libs.missing import NAType"
   ]
  },
  {
   "cell_type": "code",
   "execution_count": 1,
   "id": "ee678d17-97db-4390-a4f4-84da03cb0e14",
   "metadata": {},
   "outputs": [],
   "source": [
    "import pandas as pd\n",
    "from pathlib import Path\n",
    "import numpy as np\n",
    "import altair as alt"
   ]
  },
  {
   "cell_type": "code",
   "execution_count": 2,
   "id": "12cbea50-8924-45d0-90a8-e724f2a7c063",
   "metadata": {},
   "outputs": [],
   "source": [
    "whole_path = Path(\"testdata/TagTelo3_221206_streamlit/\")\n",
    "chr_lengths = pd.read_csv(\"chm13v2_chr_lengths.csv\")\n",
    "telomere_df = (\n",
    "    pd.read_csv(\n",
    "        list(whole_path.rglob(\"results/*results.csv\"))[0],\n",
    "    )\n",
    "    .assign(read_length=lambda x: x.align_end - x.align_start)\n",
    "    .rename(columns={\"region_length\": \"telomere_length\"})\n",
    "    .merge(chr_lengths, on=\"chr\")\n",
    "    .rename(columns={\"total_length\": \"chr_length\"})\n",
    "    .assign(\n",
    "        arm=lambda x: np.select(\n",
    "            [x.align_start < 100_000, x.align_start > x.chr_length - 100_000],\n",
    "            [\"left\", \"right\"],\n",
    "            default=pd.NA,\n",
    "        )\n",
    "    )\n",
    "    .dropna()\n",
    "    .reset_index()\n",
    ")"
   ]
  },
  {
   "cell_type": "code",
   "execution_count": 11,
   "id": "79394b20-35e6-40dd-826f-bde61fe66220",
   "metadata": {},
   "outputs": [
    {
     "data": {
      "text/plain": [
       "(14, 11)"
      ]
     },
     "execution_count": 11,
     "metadata": {},
     "output_type": "execute_result"
    }
   ],
   "source": []
  },
  {
   "cell_type": "code",
   "execution_count": 14,
   "id": "2f05e2ff-33e6-48b7-bab5-c6c0dd7e1c70",
   "metadata": {},
   "outputs": [
    {
     "data": {
      "text/html": [
       "\n",
       "<div id=\"altair-viz-3e57329e3f29431c8c80371d321e7bd9\"></div>\n",
       "<script type=\"text/javascript\">\n",
       "  (function(spec, embedOpt){\n",
       "    let outputDiv = document.currentScript.previousElementSibling;\n",
       "    if (outputDiv.id !== \"altair-viz-3e57329e3f29431c8c80371d321e7bd9\") {\n",
       "      outputDiv = document.getElementById(\"altair-viz-3e57329e3f29431c8c80371d321e7bd9\");\n",
       "    }\n",
       "    const paths = {\n",
       "      \"vega\": \"https://cdn.jsdelivr.net/npm//vega@5?noext\",\n",
       "      \"vega-lib\": \"https://cdn.jsdelivr.net/npm//vega-lib?noext\",\n",
       "      \"vega-lite\": \"https://cdn.jsdelivr.net/npm//vega-lite@4.8.1?noext\",\n",
       "      \"vega-embed\": \"https://cdn.jsdelivr.net/npm//vega-embed@6?noext\",\n",
       "    };\n",
       "\n",
       "    function loadScript(lib) {\n",
       "      return new Promise(function(resolve, reject) {\n",
       "        var s = document.createElement('script');\n",
       "        s.src = paths[lib];\n",
       "        s.async = true;\n",
       "        s.onload = () => resolve(paths[lib]);\n",
       "        s.onerror = () => reject(`Error loading script: ${paths[lib]}`);\n",
       "        document.getElementsByTagName(\"head\")[0].appendChild(s);\n",
       "      });\n",
       "    }\n",
       "\n",
       "    function showError(err) {\n",
       "      outputDiv.innerHTML = `<div class=\"error\" style=\"color:red;\">${err}</div>`;\n",
       "      throw err;\n",
       "    }\n",
       "\n",
       "    function displayChart(vegaEmbed) {\n",
       "      vegaEmbed(outputDiv, spec, embedOpt)\n",
       "        .catch(err => showError(`Javascript Error: ${err.message}<br>This usually means there's a typo in your chart specification. See the javascript console for the full traceback.`));\n",
       "    }\n",
       "\n",
       "    if(typeof define === \"function\" && define.amd) {\n",
       "      requirejs.config({paths});\n",
       "      require([\"vega-embed\"], displayChart, err => showError(`Error loading script: ${err.message}`));\n",
       "    } else if (typeof vegaEmbed === \"function\") {\n",
       "      displayChart(vegaEmbed);\n",
       "    } else {\n",
       "      loadScript(\"vega\")\n",
       "        .then(() => loadScript(\"vega-lite\"))\n",
       "        .then(() => loadScript(\"vega-embed\"))\n",
       "        .catch(showError)\n",
       "        .then(() => displayChart(vegaEmbed));\n",
       "    }\n",
       "  })({\"config\": {\"view\": {\"continuousWidth\": 400, \"continuousHeight\": 300}}, \"data\": {\"name\": \"data-bed846a5d610ca4f0e04e184b9ebdfff\"}, \"facet\": {\"column\": {\"type\": \"nominal\", \"field\": \"arm\"}}, \"spec\": {\"mark\": {\"type\": \"circle\", \"size\": 100}, \"encoding\": {\"color\": {\"type\": \"nominal\", \"field\": \"arm\"}, \"tooltip\": [{\"type\": \"quantitative\", \"field\": \"telomere_length\", \"title\": \"Telomere length\"}, {\"type\": \"nominal\", \"field\": \"telomere_type\", \"title\": \"Telomere type\"}], \"x\": {\"type\": \"nominal\", \"field\": \"chr\", \"title\": \"Chromosome\"}, \"y\": {\"type\": \"quantitative\", \"field\": \"telomere_length\", \"title\": \"Length of Telomere\"}}, \"height\": 700, \"title\": \"Number of telomeric reads: 14\"}, \"$schema\": \"https://vega.github.io/schema/vega-lite/v4.8.1.json\", \"datasets\": {\"data-bed846a5d610ca4f0e04e184b9ebdfff\": [{\"index\": 0, \"chr\": \"chr22\", \"align_start\": 2067, \"align_end\": 19299, \"id\": \"6697258c-f1d1-42d9-bb8b-76005536e7e9\", \"strand\": \"+\", \"telomere_length\": 6055, \"telomere_type\": \"CCCTAA\", \"read_length\": 17232, \"chr_length\": 51324926, \"arm\": \"left\"}, {\"index\": 6, \"chr\": \"chr11\", \"align_start\": 1855, \"align_end\": 5296, \"id\": \"8085a195-e226-4aa1-9f38-560840e608c2\", \"strand\": \"-\", \"telomere_length\": 130, \"telomere_type\": \"TTAGGG\", \"read_length\": 3441, \"chr_length\": 135127769, \"arm\": \"left\"}, {\"index\": 10, \"chr\": \"chr12\", \"align_start\": 133322268, \"align_end\": 133322995, \"id\": \"4ac04449-b0eb-4a7c-89ff-261620e60f46\", \"strand\": \"-\", \"telomere_length\": 699, \"telomere_type\": \"CCCTAA\", \"read_length\": 727, \"chr_length\": 133324548, \"arm\": \"right\"}, {\"index\": 11, \"chr\": \"chrY\", \"align_start\": 62436833, \"align_end\": 62454302, \"id\": \"67222186-9dc9-4029-b5cd-0b1aa27bae0b\", \"strand\": \"-\", \"telomere_length\": 530, \"telomere_type\": \"CCCTAA\", \"read_length\": 17469, \"chr_length\": 62460029, \"arm\": \"right\"}, {\"index\": 12, \"chr\": \"chr7\", \"align_start\": 2961, \"align_end\": 18271, \"id\": \"d567597e-a639-4b24-8049-4bb93a5038dd\", \"strand\": \"-\", \"telomere_length\": 497, \"telomere_type\": \"TTAGGG\", \"read_length\": 15310, \"chr_length\": 160567428, \"arm\": \"left\"}, {\"index\": 15, \"chr\": \"chr10\", \"align_start\": 134729309, \"align_end\": 134755434, \"id\": \"de718fe8-53b1-4a5e-a881-5bb97b9f8f2f\", \"strand\": \"-\", \"telomere_length\": 401, \"telomere_type\": \"CCCTAA\", \"read_length\": 26125, \"chr_length\": 134758134, \"arm\": \"right\"}, {\"index\": 17, \"chr\": \"chr10\", \"align_start\": 134729704, \"align_end\": 134736520, \"id\": \"fccb956d-c26e-41b2-9ab2-32b05d527c42\", \"strand\": \"-\", \"telomere_length\": 160, \"telomere_type\": \"CCCTAA\", \"read_length\": 6816, \"chr_length\": 134758134, \"arm\": \"right\"}, {\"index\": 19, \"chr\": \"chr6\", \"align_start\": 172105999, \"align_end\": 172124506, \"id\": \"23c4474e-e1aa-445a-927e-eaddbb906e59\", \"strand\": \"-\", \"telomere_length\": 349, \"telomere_type\": \"CCCTAA\", \"read_length\": 18507, \"chr_length\": 172126628, \"arm\": \"right\"}, {\"index\": 20, \"chr\": \"chr6\", \"align_start\": 2549, \"align_end\": 11712, \"id\": \"c8108e1d-cb6d-4beb-bc01-41dcda7d6f28\", \"strand\": \"+\", \"telomere_length\": 331, \"telomere_type\": \"CCCTAA\", \"read_length\": 9163, \"chr_length\": 172126628, \"arm\": \"left\"}, {\"index\": 21, \"chr\": \"chr6\", \"align_start\": 2554, \"align_end\": 15890, \"id\": \"a9c2154a-6fd0-4881-954a-2f2f6d5076dc\", \"strand\": \"+\", \"telomere_length\": 321, \"telomere_type\": \"CCCTAA\", \"read_length\": 13336, \"chr_length\": 172126628, \"arm\": \"left\"}, {\"index\": 22, \"chr\": \"chr1\", \"align_start\": 2173, \"align_end\": 12395, \"id\": \"a7b89736-9c0d-4d22-ac1d-cd4fd25b1ff1\", \"strand\": \"+\", \"telomere_length\": 294, \"telomere_type\": \"CCCTAA\", \"read_length\": 10222, \"chr_length\": 248387328, \"arm\": \"left\"}, {\"index\": 31, \"chr\": \"chr13\", \"align_start\": 113562789, \"align_end\": 113563516, \"id\": \"14ec8087-b67e-4e65-9b25-e7f31ef233ea\", \"strand\": \"-\", \"telomere_length\": 201, \"telomere_type\": \"CCCTAA\", \"read_length\": 727, \"chr_length\": 113566686, \"arm\": \"right\"}, {\"index\": 32, \"chr\": \"chr14\", \"align_start\": 101145888, \"align_end\": 101160570, \"id\": \"f74de110-97ad-408d-a366-41f57fc08897\", \"strand\": \"-\", \"telomere_length\": 199, \"telomere_type\": \"CCCTAA\", \"read_length\": 14682, \"chr_length\": 101161492, \"arm\": \"right\"}, {\"index\": 33, \"chr\": \"chr2\", \"align_start\": 2151, \"align_end\": 2696, \"id\": \"79b9e178-4787-45d3-b18c-e4192aea8e07\", \"strand\": \"+\", \"telomere_length\": 153, \"telomere_type\": \"CCCTAA\", \"read_length\": 545, \"chr_length\": 242696752, \"arm\": \"left\"}]}}, {\"mode\": \"vega-lite\"});\n",
       "</script>"
      ],
      "text/plain": [
       "alt.FacetChart(...)"
      ]
     },
     "execution_count": 14,
     "metadata": {},
     "output_type": "execute_result"
    }
   ],
   "source": [
    "def plot_telomeres(telomere_df: pd.DataFrame) -> None:\n",
    "    \"\"\"\n",
    "    Plots information about found telomeres\n",
    "    \"\"\"\n",
    "    plot = (\n",
    "        alt.Chart(telomere_df)\n",
    "        .mark_circle(size=100)\n",
    "        .encode(\n",
    "            alt.X(\"chr:N\", title=\"Chromosome\"),\n",
    "            alt.Color(\"arm:N\"),\n",
    "            alt.Y(\"telomere_length\", title=\"Length of Telomere\"),\n",
    "            tooltip=[alt.Tooltip(\"telomere_length:Q\", title=\"Telomere length\"),\n",
    "                     alt.Tooltip(\"telomere_type:N\", title=\"Telomere type\")\n",
    "                    ]\n",
    "        )\n",
    "        .properties(\n",
    "            title=f\"Number of telomeric reads: {telomere_df.shape[0]}\",\n",
    "            height=700,\n",
    "        )\n",
    "        .facet(column=\"arm\")\n",
    "    )\n",
    "    return plot\n",
    "\n",
    "plot_telomeres(telomere_df)"
   ]
  },
  {
   "cell_type": "code",
   "execution_count": 30,
   "id": "ccebb8dc-52d2-406c-a5bd-f08e702a3bb7",
   "metadata": {},
   "outputs": [],
   "source": [
    " plot = (\n",
    "        alt.Chart(results.loc[lambda x: x.arm == \"left\"])\n",
    "        .mark_boxplot()\n",
    "        .encode(\n",
    "            alt.X(\"chr:N\", title=\"Chromosome\"),\n",
    "            alt.Y(\"telomere_length\", title=\"Length of Telomere\"),\n",
    "        )\n",
    "        .properties(\n",
    "            title=f\"Number of telomeric reads {results.shape[0]}\",\n",
    "        )\n",
    "    )"
   ]
  },
  {
   "cell_type": "code",
   "execution_count": 31,
   "id": "2d2cf4e6-2a36-4a95-bb71-511e5c2e4b87",
   "metadata": {},
   "outputs": [
    {
     "name": "stderr",
     "output_type": "stream",
     "text": [
      "/opt/miniconda3/envs/lims/lib/python3.10/site-packages/altair/utils/core.py:283: FutureWarning: iteritems is deprecated and will be removed in a future version. Use .items instead.\n",
      "  for col_name, dtype in df.dtypes.iteritems():\n"
     ]
    },
    {
     "data": {
      "text/html": [
       "\n",
       "<div id=\"altair-viz-7e53da679d3f426e833d54a37fc2322c\"></div>\n",
       "<script type=\"text/javascript\">\n",
       "  (function(spec, embedOpt){\n",
       "    let outputDiv = document.currentScript.previousElementSibling;\n",
       "    if (outputDiv.id !== \"altair-viz-7e53da679d3f426e833d54a37fc2322c\") {\n",
       "      outputDiv = document.getElementById(\"altair-viz-7e53da679d3f426e833d54a37fc2322c\");\n",
       "    }\n",
       "    const paths = {\n",
       "      \"vega\": \"https://cdn.jsdelivr.net/npm//vega@5?noext\",\n",
       "      \"vega-lib\": \"https://cdn.jsdelivr.net/npm//vega-lib?noext\",\n",
       "      \"vega-lite\": \"https://cdn.jsdelivr.net/npm//vega-lite@4.8.1?noext\",\n",
       "      \"vega-embed\": \"https://cdn.jsdelivr.net/npm//vega-embed@6?noext\",\n",
       "    };\n",
       "\n",
       "    function loadScript(lib) {\n",
       "      return new Promise(function(resolve, reject) {\n",
       "        var s = document.createElement('script');\n",
       "        s.src = paths[lib];\n",
       "        s.async = true;\n",
       "        s.onload = () => resolve(paths[lib]);\n",
       "        s.onerror = () => reject(`Error loading script: ${paths[lib]}`);\n",
       "        document.getElementsByTagName(\"head\")[0].appendChild(s);\n",
       "      });\n",
       "    }\n",
       "\n",
       "    function showError(err) {\n",
       "      outputDiv.innerHTML = `<div class=\"error\" style=\"color:red;\">${err}</div>`;\n",
       "      throw err;\n",
       "    }\n",
       "\n",
       "    function displayChart(vegaEmbed) {\n",
       "      vegaEmbed(outputDiv, spec, embedOpt)\n",
       "        .catch(err => showError(`Javascript Error: ${err.message}<br>This usually means there's a typo in your chart specification. See the javascript console for the full traceback.`));\n",
       "    }\n",
       "\n",
       "    if(typeof define === \"function\" && define.amd) {\n",
       "      requirejs.config({paths});\n",
       "      require([\"vega-embed\"], displayChart, err => showError(`Error loading script: ${err.message}`));\n",
       "    } else if (typeof vegaEmbed === \"function\") {\n",
       "      displayChart(vegaEmbed);\n",
       "    } else {\n",
       "      loadScript(\"vega\")\n",
       "        .then(() => loadScript(\"vega-lite\"))\n",
       "        .then(() => loadScript(\"vega-embed\"))\n",
       "        .catch(showError)\n",
       "        .then(() => displayChart(vegaEmbed));\n",
       "    }\n",
       "  })({\"config\": {\"view\": {\"continuousWidth\": 400, \"continuousHeight\": 300}}, \"data\": {\"name\": \"data-29f14a35370991c7f651fea634d5704b\"}, \"mark\": \"boxplot\", \"encoding\": {\"x\": {\"type\": \"nominal\", \"field\": \"chr\", \"title\": \"Chromosome\"}, \"y\": {\"type\": \"quantitative\", \"field\": \"telomere_length\", \"title\": \"Length of Telomere\"}}, \"title\": \"Number of telomeric reads 69\", \"$schema\": \"https://vega.github.io/schema/vega-lite/v4.8.1.json\", \"datasets\": {\"data-29f14a35370991c7f651fea634d5704b\": [{\"chr\": \"chr5\", \"align_start\": 2, \"align_end\": 23595, \"id\": \"83c29e37-0983-4e27-aa50-0a9e17cc00fe\", \"strand\": \"+\", \"telomere_length\": 5319, \"telomere_type\": \"CCCTAA\", \"read_length\": 23593, \"arm\": \"left\"}, {\"chr\": \"chr10\", \"align_start\": 0, \"align_end\": 32142, \"id\": \"592662e3-5a6a-4225-aee3-437c2e223907\", \"strand\": \"+\", \"telomere_length\": 3040, \"telomere_type\": \"CCCTAA\", \"read_length\": 32142, \"arm\": \"left\"}, {\"chr\": \"chr17\", \"align_start\": 0, \"align_end\": 16414, \"id\": \"b41651fb-5286-49ad-a357-8b0796226c0f\", \"strand\": \"+\", \"telomere_length\": 2327, \"telomere_type\": \"CCCTAA\", \"read_length\": 16414, \"arm\": \"left\"}, {\"chr\": \"chr19\", \"align_start\": 881, \"align_end\": 12435, \"id\": \"17db409c-ce5a-4684-8e8e-bf5963407248\", \"strand\": \"-\", \"telomere_length\": 751, \"telomere_type\": \"TTAGGG\", \"read_length\": 11554, \"arm\": \"left\"}, {\"chr\": \"chr3\", \"align_start\": 1843, \"align_end\": 5118, \"id\": \"b6164f7d-4206-4995-bc20-793074dffcb3\", \"strand\": \"-\", \"telomere_length\": 429, \"telomere_type\": \"TTAGGG\", \"read_length\": 3275, \"arm\": \"left\"}, {\"chr\": \"chr2\", \"align_start\": 2979, \"align_end\": 4360, \"id\": \"4f55c63f-a162-48b1-87c8-03e1b432fbeb\", \"strand\": \"+\", \"telomere_length\": 320, \"telomere_type\": \"CCCTAA\", \"read_length\": 1381, \"arm\": \"left\"}, {\"chr\": \"chr16\", \"align_start\": 1480, \"align_end\": 4106, \"id\": \"38b6096f-3026-48f0-84a3-b03a57e91c5a\", \"strand\": \"-\", \"telomere_length\": 315, \"telomere_type\": \"TTAGGG\", \"read_length\": 2626, \"arm\": \"left\"}, {\"chr\": \"chrY\", \"align_start\": 5296, \"align_end\": 8300, \"id\": \"5f0a5d5f-d73e-4f6b-8b4a-44b50a99f0c3\", \"strand\": \"+\", \"telomere_length\": 315, \"telomere_type\": \"CCCTAA\", \"read_length\": 3004, \"arm\": \"left\"}, {\"chr\": \"chr5\", \"align_start\": 1507, \"align_end\": 15763, \"id\": \"e962b131-ff7f-4e43-b8d3-6482eb36a430\", \"strand\": \"-\", \"telomere_length\": 300, \"telomere_type\": \"TTAGGG\", \"read_length\": 14256, \"arm\": \"left\"}, {\"chr\": \"chr20\", \"align_start\": 2328, \"align_end\": 5338, \"id\": \"ce2142da-a8d6-4739-b367-9d7ca511b114\", \"strand\": \"-\", \"telomere_length\": 218, \"telomere_type\": \"TTAGGG\", \"read_length\": 3010, \"arm\": \"left\"}, {\"chr\": \"chr8\", \"align_start\": 13429, \"align_end\": 25003, \"id\": \"d0666626-79d4-484e-a016-9cc6bffff77e\", \"strand\": \"-\", \"telomere_length\": 172, \"telomere_type\": \"TTAGGG\", \"read_length\": 11574, \"arm\": \"left\"}, {\"chr\": \"chr1\", \"align_start\": 2908, \"align_end\": 17626, \"id\": \"004afbeb-d8fb-42ea-a829-d963007b7d35\", \"strand\": \"-\", \"telomere_length\": 129, \"telomere_type\": \"TTAGGG\", \"read_length\": 14718, \"arm\": \"left\"}, {\"chr\": \"chr1\", \"align_start\": 2897, \"align_end\": 17622, \"id\": \"3426318d-69cf-4a00-ad56-0caea3a6120c\", \"strand\": \"+\", \"telomere_length\": 128, \"telomere_type\": \"CCCTAA\", \"read_length\": 14725, \"arm\": \"left\"}, {\"chr\": \"chr17\", \"align_start\": 41788, \"align_end\": 43487, \"id\": \"8aeab76e-74ff-4d43-9100-5bf1618cd01a\", \"strand\": \"-\", \"telomere_length\": 83, \"telomere_type\": \"TTAGGG\", \"read_length\": 1699, \"arm\": \"left\"}]}}, {\"mode\": \"vega-lite\"});\n",
       "</script>"
      ],
      "text/plain": [
       "alt.Chart(...)"
      ]
     },
     "execution_count": 31,
     "metadata": {},
     "output_type": "execute_result"
    }
   ],
   "source": [
    "plot"
   ]
  },
  {
   "cell_type": "code",
   "execution_count": 6,
   "id": "67bc3c26-8515-4281-ad9e-e21ba8e72e99",
   "metadata": {},
   "outputs": [
    {
     "data": {
      "text/plain": [
       "[]"
      ]
     },
     "execution_count": 6,
     "metadata": {},
     "output_type": "execute_result"
    }
   ],
   "source": [
    "import "
   ]
  }
 ],
 "metadata": {
  "kernelspec": {
   "display_name": "Python 3 (ipykernel)",
   "language": "python",
   "name": "python3"
  },
  "language_info": {
   "codemirror_mode": {
    "name": "ipython",
    "version": 3
   },
   "file_extension": ".py",
   "mimetype": "text/x-python",
   "name": "python",
   "nbconvert_exporter": "python",
   "pygments_lexer": "ipython3",
   "version": "3.10.8"
  }
 },
 "nbformat": 4,
 "nbformat_minor": 5
}
