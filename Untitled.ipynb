{
 "cells": [
  {
   "cell_type": "code",
   "execution_count": 9,
   "id": "a684910a-401a-4c62-b5bf-eec27b28ca6b",
   "metadata": {},
   "outputs": [],
   "source": [
    "import pandas as pd\n",
    "\n",
    "df = pd.DataFrame()\n",
    "\n",
    "df.assign(name=\"\",\n",
    "          sample_type=\"\",\n",
    "          kit=\"\",\n",
    "          barcodes=\"\",\n",
    "          adaptive_sampling=\"\",\n",
    "          comment=\"\",\n",
    "         ).to_csv(\"nanopore_experiments.csv\", index=False)"
   ]
  }
 ],
 "metadata": {
  "kernelspec": {
   "display_name": "Python 3 (ipykernel)",
   "language": "python",
   "name": "python3"
  },
  "language_info": {
   "codemirror_mode": {
    "name": "ipython",
    "version": 3
   },
   "file_extension": ".py",
   "mimetype": "text/x-python",
   "name": "python",
   "nbconvert_exporter": "python",
   "pygments_lexer": "ipython3",
   "version": "3.10.8"
  }
 },
 "nbformat": 4,
 "nbformat_minor": 5
}
