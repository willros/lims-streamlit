{
 "cells": [
  {
   "cell_type": "code",
   "execution_count": 35,
   "id": "a684910a-401a-4c62-b5bf-eec27b28ca6b",
   "metadata": {},
   "outputs": [],
   "source": [
    "import pandas as pd\n",
    "\n",
    "df = pd.DataFrame()\n",
    "\n",
    "df.assign(name=\"\",\n",
    "          sample_type=\"\",\n",
    "          kit=\"\",\n",
    "          barcodes=\"\",\n",
    "          adaptive_sampling=\"\",\n",
    "          reference_genome=\"\",\n",
    "          comment=\"\",\n",
    "          date=\"\",\n",
    "          sample_concentration=\"\",\n",
    "          volume=\"\"\n",
    "         ).to_csv(\"nanopore_experiments.csv\", index=False)"
   ]
  },
  {
   "cell_type": "code",
   "execution_count": 120,
   "id": "5df7c3a9-0b4a-45aa-ad93-b43cb76e3781",
   "metadata": {},
   "outputs": [
    {
     "data": {
      "text/plain": [
       "'2022-11-17'"
      ]
     },
     "execution_count": 120,
     "metadata": {},
     "output_type": "execute_result"
    }
   ],
   "source": [
    "import re \n",
    "from datetime import datetime\n",
    "import pandas as pd\n",
    "from pathlib import Path\n",
    "\n",
    "file = Path(\"TEST-DATA/SAMPLE1/report_FAV26690_20221117_1534_5acb3ea0.html\").read_text()\n",
    "\n",
    "def return_date(text: str):\n",
    "    try:\n",
    "        return str(datetime.strptime(re.findall(r'<div class=\"run-details\">\\n\\s*(\\d* \\w* \\d*)', text)[0], '%d %b %y').date())\n",
    "    except:\n",
    "        return pd.NA\n",
    "\n",
    "return_date(file)\n"
   ]
  },
  {
   "cell_type": "code",
   "execution_count": 127,
   "id": "5080a1a3-a2f5-4a29-8e70-84d62a0a1991",
   "metadata": {},
   "outputs": [],
   "source": [
    "from pandas._libs.missing import NAType"
   ]
  }
 ],
 "metadata": {
  "kernelspec": {
   "display_name": "Python 3 (ipykernel)",
   "language": "python",
   "name": "python3"
  },
  "language_info": {
   "codemirror_mode": {
    "name": "ipython",
    "version": 3
   },
   "file_extension": ".py",
   "mimetype": "text/x-python",
   "name": "python",
   "nbconvert_exporter": "python",
   "pygments_lexer": "ipython3",
   "version": "3.10.8"
  }
 },
 "nbformat": 4,
 "nbformat_minor": 5
}
